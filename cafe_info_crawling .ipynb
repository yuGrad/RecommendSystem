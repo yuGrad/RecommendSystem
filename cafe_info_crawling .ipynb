{
 "cells": [
  {
   "cell_type": "code",
   "execution_count": 13,
   "id": "62c18c01",
   "metadata": {},
   "outputs": [
    {
     "ename": "JavascriptException",
     "evalue": "Message: javascript error: Cannot read properties of null (reading 'innerHTML')\n  (Session info: chrome=119.0.6045.105)\nStacktrace:\n\tGetHandleVerifier [0x00007FF6CCC582B2+55298]\n\t(No symbol) [0x00007FF6CCBC5E02]\n\t(No symbol) [0x00007FF6CCA805AB]\n\t(No symbol) [0x00007FF6CCA8509C]\n\t(No symbol) [0x00007FF6CCA8732A]\n\t(No symbol) [0x00007FF6CCAFB12B]\n\t(No symbol) [0x00007FF6CCAE20AA]\n\t(No symbol) [0x00007FF6CCAFAAA4]\n\t(No symbol) [0x00007FF6CCAE1E83]\n\t(No symbol) [0x00007FF6CCAB670A]\n\t(No symbol) [0x00007FF6CCAB7964]\n\tGetHandleVerifier [0x00007FF6CCFD0AAB+3694587]\n\tGetHandleVerifier [0x00007FF6CD02728E+4048862]\n\tGetHandleVerifier [0x00007FF6CD01F173+4015811]\n\tGetHandleVerifier [0x00007FF6CCCF47D6+695590]\n\t(No symbol) [0x00007FF6CCBD0CE8]\n\t(No symbol) [0x00007FF6CCBCCF34]\n\t(No symbol) [0x00007FF6CCBCD062]\n\t(No symbol) [0x00007FF6CCBBD3A3]\n\tBaseThreadInitThunk [0x00007FFD5795257D+29]\n\tRtlUserThreadStart [0x00007FFD5844AA78+40]\n",
     "output_type": "error",
     "traceback": [
      "\u001b[1;31m---------------------------------------------------------------------------\u001b[0m",
      "\u001b[1;31mJavascriptException\u001b[0m                       Traceback (most recent call last)",
      "Cell \u001b[1;32mIn[13], line 34\u001b[0m\n\u001b[0;32m     30\u001b[0m time\u001b[38;5;241m.\u001b[39msleep(\u001b[38;5;241m2\u001b[39m)\n\u001b[0;32m     32\u001b[0m js_script \u001b[38;5;241m=\u001b[39m \u001b[38;5;124m\"\u001b[39m\u001b[38;5;124mdocument.querySelector(\u001b[39m\u001b[38;5;130;01m\\\"\u001b[39;00m\u001b[38;5;124mbody > app > layout > div > div.container > div.router-output > \u001b[39m\u001b[38;5;124m\"\u001b[39m\\\n\u001b[0;32m     33\u001b[0m             \u001b[38;5;124m\"\u001b[39m\u001b[38;5;124mshrinkable-layout > search-layout > search-list > search-list-contents > perfect-scrollbar\u001b[39m\u001b[38;5;130;01m\\\"\u001b[39;00m\u001b[38;5;124m).innerHTML\u001b[39m\u001b[38;5;124m\"\u001b[39m\n\u001b[1;32m---> 34\u001b[0m raw \u001b[38;5;241m=\u001b[39m driver\u001b[38;5;241m.\u001b[39mexecute_script(\u001b[38;5;124m\"\u001b[39m\u001b[38;5;124mreturn \u001b[39m\u001b[38;5;124m\"\u001b[39m \u001b[38;5;241m+\u001b[39m js_script)\n\u001b[0;32m     36\u001b[0m html \u001b[38;5;241m=\u001b[39m BeautifulSoup(raw, \u001b[38;5;124m\"\u001b[39m\u001b[38;5;124mhtml.parser\u001b[39m\u001b[38;5;124m\"\u001b[39m)\n\u001b[0;32m     38\u001b[0m contents \u001b[38;5;241m=\u001b[39m html\u001b[38;5;241m.\u001b[39mselect(\u001b[38;5;124m\"\u001b[39m\u001b[38;5;124mdiv > div.ps-content > div > div > div .item_search\u001b[39m\u001b[38;5;124m\"\u001b[39m)\n",
      "File \u001b[1;32m~\\anaconda3\\Lib\\site-packages\\selenium\\webdriver\\remote\\webdriver.py:406\u001b[0m, in \u001b[0;36mWebDriver.execute_script\u001b[1;34m(self, script, *args)\u001b[0m\n\u001b[0;32m    403\u001b[0m converted_args \u001b[38;5;241m=\u001b[39m \u001b[38;5;28mlist\u001b[39m(args)\n\u001b[0;32m    404\u001b[0m command \u001b[38;5;241m=\u001b[39m Command\u001b[38;5;241m.\u001b[39mW3C_EXECUTE_SCRIPT\n\u001b[1;32m--> 406\u001b[0m \u001b[38;5;28;01mreturn\u001b[39;00m \u001b[38;5;28mself\u001b[39m\u001b[38;5;241m.\u001b[39mexecute(command, {\u001b[38;5;124m\"\u001b[39m\u001b[38;5;124mscript\u001b[39m\u001b[38;5;124m\"\u001b[39m: script, \u001b[38;5;124m\"\u001b[39m\u001b[38;5;124margs\u001b[39m\u001b[38;5;124m\"\u001b[39m: converted_args})[\u001b[38;5;124m\"\u001b[39m\u001b[38;5;124mvalue\u001b[39m\u001b[38;5;124m\"\u001b[39m]\n",
      "File \u001b[1;32m~\\anaconda3\\Lib\\site-packages\\selenium\\webdriver\\remote\\webdriver.py:346\u001b[0m, in \u001b[0;36mWebDriver.execute\u001b[1;34m(self, driver_command, params)\u001b[0m\n\u001b[0;32m    344\u001b[0m response \u001b[38;5;241m=\u001b[39m \u001b[38;5;28mself\u001b[39m\u001b[38;5;241m.\u001b[39mcommand_executor\u001b[38;5;241m.\u001b[39mexecute(driver_command, params)\n\u001b[0;32m    345\u001b[0m \u001b[38;5;28;01mif\u001b[39;00m response:\n\u001b[1;32m--> 346\u001b[0m     \u001b[38;5;28mself\u001b[39m\u001b[38;5;241m.\u001b[39merror_handler\u001b[38;5;241m.\u001b[39mcheck_response(response)\n\u001b[0;32m    347\u001b[0m     response[\u001b[38;5;124m\"\u001b[39m\u001b[38;5;124mvalue\u001b[39m\u001b[38;5;124m\"\u001b[39m] \u001b[38;5;241m=\u001b[39m \u001b[38;5;28mself\u001b[39m\u001b[38;5;241m.\u001b[39m_unwrap_value(response\u001b[38;5;241m.\u001b[39mget(\u001b[38;5;124m\"\u001b[39m\u001b[38;5;124mvalue\u001b[39m\u001b[38;5;124m\"\u001b[39m, \u001b[38;5;28;01mNone\u001b[39;00m))\n\u001b[0;32m    348\u001b[0m     \u001b[38;5;28;01mreturn\u001b[39;00m response\n",
      "File \u001b[1;32m~\\anaconda3\\Lib\\site-packages\\selenium\\webdriver\\remote\\errorhandler.py:229\u001b[0m, in \u001b[0;36mErrorHandler.check_response\u001b[1;34m(self, response)\u001b[0m\n\u001b[0;32m    227\u001b[0m         alert_text \u001b[38;5;241m=\u001b[39m value[\u001b[38;5;124m\"\u001b[39m\u001b[38;5;124malert\u001b[39m\u001b[38;5;124m\"\u001b[39m]\u001b[38;5;241m.\u001b[39mget(\u001b[38;5;124m\"\u001b[39m\u001b[38;5;124mtext\u001b[39m\u001b[38;5;124m\"\u001b[39m)\n\u001b[0;32m    228\u001b[0m     \u001b[38;5;28;01mraise\u001b[39;00m exception_class(message, screen, stacktrace, alert_text)  \u001b[38;5;66;03m# type: ignore[call-arg]  # mypy is not smart enough here\u001b[39;00m\n\u001b[1;32m--> 229\u001b[0m \u001b[38;5;28;01mraise\u001b[39;00m exception_class(message, screen, stacktrace)\n",
      "\u001b[1;31mJavascriptException\u001b[0m: Message: javascript error: Cannot read properties of null (reading 'innerHTML')\n  (Session info: chrome=119.0.6045.105)\nStacktrace:\n\tGetHandleVerifier [0x00007FF6CCC582B2+55298]\n\t(No symbol) [0x00007FF6CCBC5E02]\n\t(No symbol) [0x00007FF6CCA805AB]\n\t(No symbol) [0x00007FF6CCA8509C]\n\t(No symbol) [0x00007FF6CCA8732A]\n\t(No symbol) [0x00007FF6CCAFB12B]\n\t(No symbol) [0x00007FF6CCAE20AA]\n\t(No symbol) [0x00007FF6CCAFAAA4]\n\t(No symbol) [0x00007FF6CCAE1E83]\n\t(No symbol) [0x00007FF6CCAB670A]\n\t(No symbol) [0x00007FF6CCAB7964]\n\tGetHandleVerifier [0x00007FF6CCFD0AAB+3694587]\n\tGetHandleVerifier [0x00007FF6CD02728E+4048862]\n\tGetHandleVerifier [0x00007FF6CD01F173+4015811]\n\tGetHandleVerifier [0x00007FF6CCCF47D6+695590]\n\t(No symbol) [0x00007FF6CCBD0CE8]\n\t(No symbol) [0x00007FF6CCBCCF34]\n\t(No symbol) [0x00007FF6CCBCD062]\n\t(No symbol) [0x00007FF6CCBBD3A3]\n\tBaseThreadInitThunk [0x00007FFD5795257D+29]\n\tRtlUserThreadStart [0x00007FFD5844AA78+40]\n"
     ]
    }
   ],
   "source": [
    "from selenium import webdriver\n",
    "from selenium.webdriver.common.by import By\n",
    "from selenium.webdriver.support.ui import WebDriverWait\n",
    "from selenium.webdriver.support import expected_conditions as EC\n",
    "from selenium.webdriver.common.keys import Keys\n",
    "import time\n",
    "from bs4 import BeautifulSoup\n",
    "\n",
    "driver = webdriver.Chrome()\n",
    "driver.get(\"https://map.naver.com/v5/search\")\n",
    "\n",
    "# 팝업 창 제거\n",
    "# driver.find_element(By.CSS_SELECTOR, \"button#intro_popup_close\").click()\n",
    "\n",
    "# 검색창에 텍스트 입력\n",
    "wait = WebDriverWait(driver, 10)  # 최대 10초 동안 대기\n",
    "search_box = wait.until(EC.presence_of_element_located((By.CSS_SELECTOR, \"input.input_search\")))\n",
    "\n",
    "search_box.send_keys(\"마라탕\")\n",
    "\n",
    "# 3초 대기 (옵션)\n",
    "time.sleep(3)\n",
    "\n",
    "# 검색 실행\n",
    "search_box.send_keys(Keys.ENTER)\n",
    "\n",
    "# 크롤링\n",
    "for p in range(20):\n",
    "    # 5초 delay\n",
    "    time.sleep(2)\n",
    "    \n",
    "    js_script = \"document.querySelector(\\\"body > app > layout > div > div.container > div.router-output > \"\\\n",
    "                \"shrinkable-layout > search-layout > search-list > search-list-contents > perfect-scrollbar\\\").innerHTML\"\n",
    "    raw = driver.execute_script(\"return \" + js_script)\n",
    "\n",
    "    html = BeautifulSoup(raw, \"html.parser\")\n",
    "\n",
    "    contents = html.select(\"div > div.ps-content > div > div > div .item_search\")\n",
    "    for s in contents:\n",
    "        search_box_html = s.select_one(\".search_box\")\n",
    "\n",
    "        name = search_box_html.select_one(\".title_box .search_title .search_title_text\").text\n",
    "        print(\"식당명: \" + name)\n",
    "        try:\n",
    "            phone = search_box_html.select_one(\".search_text_box .phone\").text\n",
    "        except:\n",
    "            phone = \"NULL\"\n",
    "        print(\"전화번호: \" + phone)\n",
    "        address = search_box_html.select_one(\".ng-star-inserted .address\").text\n",
    "        print(\"주소: \" + address)\n",
    "\n",
    "        print(\"--\"*30)\n",
    "    # 다음 페이지로 이동\n",
    "    try:\n",
    "        next_btn = driver.find_element_by_css_selector(\"button.btn_next\")\n",
    "        next_btn.click()\n",
    "    except:\n",
    "        print(\"데이터 수집 완료\")\n",
    "        break\n",
    "\n",
    "# 크롭 웹페이지를 닫음\n",
    "driver.close()"
   ]
  }
 ],
 "metadata": {
  "kernelspec": {
   "display_name": "Python 3 (ipykernel)",
   "language": "python",
   "name": "python3"
  },
  "language_info": {
   "codemirror_mode": {
    "name": "ipython",
    "version": 3
   },
   "file_extension": ".py",
   "mimetype": "text/x-python",
   "name": "python",
   "nbconvert_exporter": "python",
   "pygments_lexer": "ipython3",
   "version": "3.11.5"
  }
 },
 "nbformat": 4,
 "nbformat_minor": 5
}
