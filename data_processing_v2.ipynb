{
 "cells": [
  {
   "cell_type": "code",
   "execution_count": 1,
   "id": "3c3d1d87",
   "metadata": {},
   "outputs": [],
   "source": [
    "import pandas as pd\n",
    "import numpy as np"
   ]
  },
  {
   "cell_type": "code",
   "execution_count": 74,
   "id": "05aba6fa",
   "metadata": {},
   "outputs": [],
   "source": [
    "cafe_df = pd.read_csv(\"./cafe_data/cafe_data_v1.csv\",  encoding=\"utf-8\")"
   ]
  },
  {
   "cell_type": "code",
   "execution_count": 3,
   "id": "53342f40",
   "metadata": {},
   "outputs": [
    {
     "data": {
      "text/plain": [
       "Index(['카페이름', '별점', '방문자리뷰수', '블로그리뷰수', '주소', '영업시간', '전화번호', '연결사이트', '설명',\n",
       "       '메뉴', '키워드', 'latitude', 'longitude'],\n",
       "      dtype='object')"
      ]
     },
     "execution_count": 3,
     "metadata": {},
     "output_type": "execute_result"
    }
   ],
   "source": [
    "cafe_df.columns"
   ]
  },
  {
   "cell_type": "code",
   "execution_count": 75,
   "id": "fde9b703-6673-4f78-9a01-aee64b833f72",
   "metadata": {},
   "outputs": [
    {
     "name": "stdout",
     "output_type": "stream",
     "text": [
      "<class 'pandas.core.frame.DataFrame'>\n",
      "RangeIndex: 3468 entries, 0 to 3467\n",
      "Data columns (total 13 columns):\n",
      " #   Column     Non-Null Count  Dtype  \n",
      "---  ------     --------------  -----  \n",
      " 0   카페이름       3468 non-null   object \n",
      " 1   별점         3468 non-null   float64\n",
      " 2   방문자리뷰수     3468 non-null   int64  \n",
      " 3   블로그리뷰수     3468 non-null   int64  \n",
      " 4   주소         3468 non-null   object \n",
      " 5   영업시간       3468 non-null   object \n",
      " 6   전화번호       3468 non-null   object \n",
      " 7   연결사이트      3468 non-null   object \n",
      " 8   설명         3462 non-null   object \n",
      " 9   메뉴         3468 non-null   object \n",
      " 10  키워드        3468 non-null   object \n",
      " 11  latitude   3455 non-null   float64\n",
      " 12  longitude  3455 non-null   float64\n",
      "dtypes: float64(3), int64(2), object(8)\n",
      "memory usage: 352.3+ KB\n"
     ]
    }
   ],
   "source": [
    "cafe_df.info()"
   ]
  },
  {
   "cell_type": "code",
   "execution_count": 77,
   "id": "e542a77d-de84-4394-a337-05e165374b54",
   "metadata": {},
   "outputs": [],
   "source": [
    "# 키워드 {] 문자열을 딕셔너리로 변환\n",
    "import ast\n",
    "\n",
    "cafe_df['키워드'] = cafe_df['키워드'].apply(ast.literal_eval)"
   ]
  },
  {
   "cell_type": "code",
   "execution_count": 90,
   "id": "6b33bc13-0729-4c14-97b4-02f19636796c",
   "metadata": {},
   "outputs": [],
   "source": [
    "# 각 카페 행의 키워드 컬럼에서 각각의 키워드를 추출해 리스트 -> 모든 키워드 추출\n",
    "unique_keywords = set()\n",
    "\n",
    "for idx, row in cafe_df.iterrows():\n",
    "    # Extract the keyword string from the row\n",
    "    if row['키워드'] == {} or row['키워드'] == \"{}\":\n",
    "        continue\n",
    "\n",
    "    try:\n",
    "        keywords_dict = dict(row['키워드'])\n",
    "    except:\n",
    "        keywords_dict = ast.literal_eval(row['키워드'])\n",
    "    unique_keywords.update(keywords_dict.keys())\n",
    "\n",
    "unique_keywords = list(unique_keywords)"
   ]
  },
  {
   "cell_type": "code",
   "execution_count": 91,
   "id": "a1758fec-8a55-4a0e-bbc2-168128428a04",
   "metadata": {
    "scrolled": true
   },
   "outputs": [
    {
     "data": {
      "text/plain": [
       "['음료가 맛있어요',\n",
       " '매장이 청결해요',\n",
       " '관리 효과가 좋아요',\n",
       " '초보자에게도 적합해요',\n",
       " '테마가 재미있어요',\n",
       " '빵이 맛있어요',\n",
       " '메뉴 구성이 알차요',\n",
       " '상담이 자세해요',\n",
       " '싱싱해요',\n",
       " '주차하기 편해요',\n",
       " '오래 머무르기 좋아요',\n",
       " '매장이 넓어요',\n",
       " '문제가 신선해요',\n",
       " '컨셉이 독특해요',\n",
       " '건강한 맛이에요',\n",
       " 'A/S가 세심해요',\n",
       " '안전하게 관리해요',\n",
       " '감각적이에요',\n",
       " '공간이 넓어요',\n",
       " '특별한 메뉴가 있어요',\n",
       " '스토리가 탄탄해요',\n",
       " '맞춤 수업을 잘해줘요',\n",
       " '문제가 논리적이에요',\n",
       " '화장실이 깨끗해요',\n",
       " '양이 많아요',\n",
       " '사진이 잘 나와요',\n",
       " '기구가 청결해요',\n",
       " '시술이 꼼꼼해요',\n",
       " '포장이 정성스러워요',\n",
       " '룸이 잘 되어있어요',\n",
       " '맞춤 제작을 잘해요',\n",
       " '설명이 자세해요',\n",
       " '기본 안주가 좋아요',\n",
       " '선물하기 좋아요',\n",
       " '친절해요',\n",
       " '가성비가 좋아요',\n",
       " '혼술하기 좋아요',\n",
       " '먹거리가 풍부해요',\n",
       " '차가 맛있어요',\n",
       " '재미있는 테마가 많아요',\n",
       " '장치가 다양해요',\n",
       " '파티하기 좋아요',\n",
       " '디저트가 맛있어요',\n",
       " '혼밥하기 좋아요',\n",
       " '단체모임 하기 좋아요',\n",
       " '좌석이 편해요',\n",
       " '놀거리가 많아요',\n",
       " '음식이 빨리 나와요',\n",
       " '체험 프로그램이 많아요',\n",
       " '사이즈가 다양해요',\n",
       " '대화하기 좋아요',\n",
       " '음식이 맛있어요',\n",
       " '재료가 신선해요',\n",
       " '집중하기 좋아요',\n",
       " '시설이 깔끔해요',\n",
       " '관리법을 잘 알려줘요',\n",
       " '가격이 합리적이에요',\n",
       " '분위기 관리가 철저해요',\n",
       " '스타일 추천을 잘해줘요',\n",
       " '공포감이 높아요',\n",
       " '술이 다양해요',\n",
       " '라이브공연이 훌륭해요',\n",
       " '뷰가 좋아요',\n",
       " '예쁜 소품이 많아요',\n",
       " '와이파이가 잘 돼요',\n",
       " '주문제작을 잘해줘요',\n",
       " '과도한 권유가 없어요',\n",
       " '꽃 조합이 예뻐요',\n",
       " '아늑해요',\n",
       " '인테리어가 멋져요',\n",
       " '부모도 쉬기 좋아요',\n",
       " '차분한 분위기에요',\n",
       " '종류가 다양해요',\n",
       " '동물을 배려한 환경이에요',\n",
       " '요금제가 잘 되어있어요',\n",
       " '읽을만한 책이 많아요',\n",
       " '아이와 가기 좋아요',\n",
       " '추천을 잘해줘요',\n",
       " '독특한 디자인이 많아요',\n",
       " '포장이 깔끔해요',\n",
       " '특별한 날 가기 좋아요',\n",
       " '사양이 좋아요',\n",
       " '분위기가 편안해요',\n",
       " '맞춤 케어를 잘해줘요',\n",
       " '반려동물과 가기 좋아요',\n",
       " '비싼 만큼 가치있어요',\n",
       " '환기가 잘 돼요',\n",
       " '음악이 좋아요',\n",
       " '커피가 맛있어요',\n",
       " '야외 공간이 멋져요',\n",
       " '특색 있는 제품이 많아요',\n",
       " '공포감이 낮아요',\n",
       " '예약이 편리해요',\n",
       " '최신 장비를 사용해요',\n",
       " '트렌디해요',\n",
       " '품질이 좋아요',\n",
       " '디자인이 멋져요']"
      ]
     },
     "execution_count": 91,
     "metadata": {},
     "output_type": "execute_result"
    }
   ],
   "source": [
    "unique_keywords"
   ]
  },
  {
   "cell_type": "code",
   "execution_count": 93,
   "id": "e39c1685-d221-4aab-a69b-ed4b7760a156",
   "metadata": {},
   "outputs": [
    {
     "data": {
      "text/plain": [
       "97"
      ]
     },
     "execution_count": 93,
     "metadata": {},
     "output_type": "execute_result"
    }
   ],
   "source": [
    "len(unique_keywords)"
   ]
  },
  {
   "cell_type": "code",
   "execution_count": null,
   "id": "cc9c760f-f369-493c-b001-d3811c4c864b",
   "metadata": {},
   "outputs": [],
   "source": [
    "categories = {\n",
    "    # 음료, 음식\n",
    "    'beverage': ['차가 맛있어요', '음료가 맛있어요', '커피가 맛있어요'],\n",
    "    'dessert': ['디저트가 맛있어요', '빵이 맛있어요', '음식이 맛있어요'],\n",
    "    #'웰빙': ['싱싱해요', '재료가 신선해요', '건강한 맛이에요'],                         \n",
    "    'various_menu': ['메뉴 구성이 알차요', '종류가 다양해요'],\n",
    "    'special_menu': ['특별한 메뉴가 있어요', '특색 있는 제품이 많아요'],\n",
    "\n",
    "    # 시설\n",
    "    'large_store': ['매장이 넓어요', '룸이 잘 되어있어요', '공간이 넓어요'],\n",
    "    #'청결한 매장': ['화장실이 깨끗해요', '환기가 잘 돼요', '시설이 깔끔해요', '매장이 청결해요'],\n",
    "    'background': ['야외 공간이 멋져요', '뷰가 좋아요'],\n",
    "    'parking': ['주차하기 편해요'],\n",
    "    \n",
    "    # 분위기\n",
    "    'talking': ['분위기가 편안해요', '대화하기 좋아요', '아늑해요'],\n",
    "    'concentration' : ['집중하기 좋아요', '차분한 분위기에요',  '오래 머무르기 좋아요'],\n",
    "    'trendy_store': ['트렌디해요', '사진이 잘 나와요', '음악이 좋아요', '인테리어가 멋져요', '컨셉이 독특해요', '테마가 재미있어요'],\n",
    "    #'unique_store': ['컨셉이 독특해요'],\n",
    "\n",
    "    # 가격대 \n",
    "    'low_price': ['가격이 합리적이에요', '가성비가 좋아요', '양이 많아요'],\n",
    "    'high_price': ['특별한 날 가기 좋아요', '비싼 만큼 가치있어요'],\n",
    "\n",
    "    # 기타\n",
    "    'gift_packaging': ['선물하기 좋아요', '포장이 깔끔해요'],\n",
    "    #'품질': ['품질이 좋아요', '비싼 만큼 가치있어요', '특별한 날 가기 좋아요', '최신 장비를 사용해요'],\n",
    "    #'반려동물': ['반려동물과 가기 좋아요',  '동물을 배려한 환경이에요'],\n",
    "    #'술': ['술이 다양해요', '혼술하기 좋아요', '기본 안주가 좋아요'],\n",
    "    #'아이': ['아이와 가기 좋아요',  '안전하게 관리해요'],\n",
    "    #'서비스': ['친절해요',],\n",
    "    \n",
    "\n",
    "    'common_keywords': ['좌석이 편해요', '친절해요', '화장실이 깨끗해요', '시설이 깔끔해요', '매장이 청결해요'] # '차가 맛있어요', '음료가 맛있어요', '커피가 맛있어요', \n",
    "}"
   ]
  }
 ],
 "metadata": {
  "kernelspec": {
   "display_name": "Python 3 (ipykernel)",
   "language": "python",
   "name": "python3"
  },
  "language_info": {
   "codemirror_mode": {
    "name": "ipython",
    "version": 3
   },
   "file_extension": ".py",
   "mimetype": "text/x-python",
   "name": "python",
   "nbconvert_exporter": "python",
   "pygments_lexer": "ipython3",
   "version": "3.10.7"
  }
 },
 "nbformat": 4,
 "nbformat_minor": 5
}
